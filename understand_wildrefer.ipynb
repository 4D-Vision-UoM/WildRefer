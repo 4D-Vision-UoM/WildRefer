{
 "cells": [
  {
   "cell_type": "markdown",
   "id": "cbbb135a",
   "metadata": {},
   "source": [
    "# STrefer"
   ]
  },
  {
   "cell_type": "code",
   "execution_count": null,
   "id": "b74b4ca0",
   "metadata": {},
   "outputs": [],
   "source": [
    "# Load STRefer Test dataset json \n",
    "import json\n",
    "\n",
    "# Load the JSON file\n",
    "with open('data/strefer_test.json', 'r') as f:\n",
    "    strefer_test_data = json.load(f)\n",
    "\n",
    "with open('data/strefer_train.json', 'r') as f:\n",
    "    strefer_train_data = json.load(f)\n",
    "\n",
    "# for image and pcd they have preprocessed the data "
   ]
  },
  {
   "cell_type": "markdown",
   "id": "a4d4693c",
   "metadata": {},
   "source": [
    "### STRefer train \n",
    "\n"
   ]
  },
  {
   "cell_type": "code",
   "execution_count": 6,
   "id": "d382c2dc",
   "metadata": {},
   "outputs": [
    {
     "data": {
      "text/plain": [
       "{'group_id': 'strefer',\n",
       " 'scene_id': '56',\n",
       " 'object_id': '56!1616643304.523335680!0',\n",
       " 'point_cloud': {'point_cloud_name': '1616643304.523335680',\n",
       "  'bbox': [24.237954890622806,\n",
       "   0.8909038780685217,\n",
       "   -1.7731092436974851,\n",
       "   0.4867018741470084,\n",
       "   0.6706036122986144,\n",
       "   2,\n",
       "   3.0975307275766317],\n",
       "  'category': 'person'},\n",
       " 'language': {'description': 'A boy is wearing all black with a pattern printed on it.',\n",
       "  'token': ['A',\n",
       "   'boy',\n",
       "   'is',\n",
       "   'wearing',\n",
       "   'all',\n",
       "   'black',\n",
       "   'with',\n",
       "   'a',\n",
       "   'pattern',\n",
       "   'printed',\n",
       "   'on',\n",
       "   'it',\n",
       "   '.'],\n",
       "  'ann_id': '1'},\n",
       " 'image': {'image_name': '1_1616643304.61487'},\n",
       " 'calibration': {'ex_matrix': [[0.00852965, -0.999945, -0.00606215, 0.0609592],\n",
       "   [-0.0417155, 0.00570127, -0.999113, -0.144364],\n",
       "   [0.999093, 0.00877497, -0.0416646, -0.0731114]],\n",
       "  'in_matrix': [[683.8, 0.0, 673.5907],\n",
       "   [0.0, 684.147, 372.8048],\n",
       "   [0.0, 0.0, 1.0]]}}"
      ]
     },
     "execution_count": 6,
     "metadata": {},
     "output_type": "execute_result"
    }
   ],
   "source": [
    "strefer_train_data[1]"
   ]
  },
  {
   "cell_type": "code",
   "execution_count": null,
   "id": "e9c7ae3c",
   "metadata": {},
   "outputs": [],
   "source": [
    "## "
   ]
  },
  {
   "cell_type": "code",
   "execution_count": 3,
   "id": "9099e4ea",
   "metadata": {},
   "outputs": [
    {
     "data": {
      "text/plain": [
       "{'group_id': 'strefer',\n",
       " 'scene_id': '65',\n",
       " 'object_id': '65!1617247789.787729408!0',\n",
       " 'point_cloud': {'point_cloud_name': '1617247789.787729408',\n",
       "  'bbox': [4.840725779925329,\n",
       "   -1.4844954699437636,\n",
       "   -1.2968955043816264,\n",
       "   0.8973087042760656,\n",
       "   0.6099004604339031,\n",
       "   1.7349463895101944,\n",
       "   2.582168698319734],\n",
       "  'category': 'person'},\n",
       " 'language': {'description': 'The boy is wearing a white and yellow jacket and a pair of white shoes.',\n",
       "  'token': ['The',\n",
       "   'boy',\n",
       "   'is',\n",
       "   'wearing',\n",
       "   'a',\n",
       "   'white',\n",
       "   'and',\n",
       "   'yellow',\n",
       "   'jacket',\n",
       "   'and',\n",
       "   'a',\n",
       "   'pair',\n",
       "   'of',\n",
       "   'white',\n",
       "   'shoes',\n",
       "   '.'],\n",
       "  'ann_id': '0'},\n",
       " 'image': {'image_name': '6_1617247790.38081'},\n",
       " 'calibration': {'ex_matrix': [[0.00852965, -0.999945, -0.00606215, 0.0609592],\n",
       "   [-0.0417155, 0.00570127, -0.999113, -0.144364],\n",
       "   [0.999093, 0.00877497, -0.0416646, -0.0731114]],\n",
       "  'in_matrix': [[683.8, 0.0, 673.5907],\n",
       "   [0.0, 684.147, 372.8048],\n",
       "   [0.0, 0.0, 1.0]]}}"
      ]
     },
     "execution_count": 3,
     "metadata": {},
     "output_type": "execute_result"
    }
   ],
   "source": [
    "strefer_test_data[0]"
   ]
  }
 ],
 "metadata": {
  "kernelspec": {
   "display_name": "wildrefer_env",
   "language": "python",
   "name": "python3"
  },
  "language_info": {
   "codemirror_mode": {
    "name": "ipython",
    "version": 3
   },
   "file_extension": ".py",
   "mimetype": "text/x-python",
   "name": "python",
   "nbconvert_exporter": "python",
   "pygments_lexer": "ipython3",
   "version": "3.8.20"
  }
 },
 "nbformat": 4,
 "nbformat_minor": 5
}
